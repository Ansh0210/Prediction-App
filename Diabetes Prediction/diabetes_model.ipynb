{
 "cells": [
  {
   "cell_type": "markdown",
   "id": "7e07d6ff",
   "metadata": {},
   "source": [
    "## Loading Data and visualizing."
   ]
  },
  {
   "cell_type": "code",
   "execution_count": null,
   "id": "02daf25e",
   "metadata": {},
   "outputs": [],
   "source": [
    "import pandas as pd\n",
    "import numpy as np\n",
    "import matplotlib.pyplot as plt\n",
    "import seaborn as sns"
   ]
  },
  {
   "cell_type": "code",
   "execution_count": null,
   "id": "6daff9c4",
   "metadata": {},
   "outputs": [],
   "source": [
    "# reading the dataset\n",
    "raw_dataset = pd.read_csv('diabetes.csv')\n",
    "\n",
    "# shape of data\n",
    "print(f\"Dataset shape: {raw_dataset.shape}\")\n",
    "\n",
    "# checking the first five rows of the dataset\n",
    "raw_dataset.head()"
   ]
  },
  {
   "cell_type": "code",
   "execution_count": null,
   "id": "41b5d913",
   "metadata": {},
   "outputs": [],
   "source": [
    "print(\"Dataset info:\")\n",
    "print(raw_dataset.info(), \"\\n\")\n",
    "\n",
    "print(\"Missing values in each column:\")\n",
    "print(raw_dataset.isnull().sum(), \"\\n\")\n",
    "\n",
    "# statistical summary of the dataset\n",
    "print(\"Statistical summary of the dataset:\")\n",
    "print(raw_dataset.describe(), \"\\n\")"
   ]
  },
  {
   "cell_type": "code",
   "execution_count": null,
   "id": "f9c6a14f",
   "metadata": {},
   "outputs": [],
   "source": [
    "print(\"Distribution of target variable (Outcome):\")\n",
    "print(raw_dataset['Outcome'].value_counts(), \"\\n\")\n",
    "\n",
    "# checking the distribution of the target variable\n",
    "sns.countplot(x='Outcome', data=raw_dataset)\n",
    "plt.title('Distribution of Outcome Variable')\n",
    "plt.xticks(ticks=[0, 1], labels=['0 (No Diabetes)', '1 (Diabetes)'])\n",
    "plt.show()"
   ]
  },
  {
   "cell_type": "code",
   "execution_count": null,
   "id": "6e03fd16",
   "metadata": {},
   "outputs": [],
   "source": [
    "# Summary statistics by outcome\n",
    "print(\"\\nSummary statistics by outcome:\")\n",
    "raw_dataset.groupby('Outcome').describe()"
   ]
  },
  {
   "cell_type": "code",
   "execution_count": null,
   "id": "a36d3cd2",
   "metadata": {},
   "outputs": [],
   "source": [
    "# creating correlation matrix and heatmap\n",
    "correlation_matrix = raw_dataset.corr()\n",
    "# sns.heatmap(correlation_matrix, annot=True, fmt=\".2f\", cmap='coolwarm')\n",
    "plt.title('Correlation Heatmap of Features')\n",
    "sns.heatmap(correlation_matrix, annot=True, fmt=\".2f\", cmap='coolwarm', annot_kws={\"size\": 10})\n",
    "plt.show()"
   ]
  },
  {
   "cell_type": "markdown",
   "id": "0d596677",
   "metadata": {},
   "source": [
    "from heatmap, seems like glucose has most effect on outcome from this data along with minor other features that also affect the outcome."
   ]
  },
  {
   "cell_type": "markdown",
   "id": "6d567dab",
   "metadata": {},
   "source": [
    "## Splitting and Standardizing the data"
   ]
  },
  {
   "cell_type": "code",
   "execution_count": null,
   "id": "b2418c5c",
   "metadata": {},
   "outputs": [],
   "source": [
    "from sklearn.model_selection import train_test_split\n",
    "from sklearn.preprocessing import StandardScaler"
   ]
  },
  {
   "cell_type": "code",
   "execution_count": null,
   "id": "bb93a9be",
   "metadata": {},
   "outputs": [],
   "source": [
    "# Splitting the data into features and target variable based on correlation insights\n",
    "X = raw_dataset.drop(columns=['SkinThickness', 'BloodPressure', 'Outcome'])  # Dropping less relevant features\n",
    "y = raw_dataset['Outcome']\n",
    "\n",
    "print(X.head())\n",
    "\n",
    "# print(X.columns)\n",
    "\n",
    "# scaling the features\n",
    "scaler = StandardScaler()\n",
    "X_scaled = scaler.fit_transform(X)\n",
    "\n",
    "# print the first 5 rows of scaled features\n",
    "print(\"\\nFirst 5 rows of scaled features:\")\n",
    "print(X_scaled[:5])"
   ]
  },
  {
   "cell_type": "code",
   "execution_count": null,
   "id": "762ae79b",
   "metadata": {},
   "outputs": [],
   "source": [
    "# checking the shape of the dataset\n",
    "print(\"Raw dataset shape:\", raw_dataset.shape)\n",
    "print(\"Features shape:\", X.shape)\n",
    "print(\"Target shape:\", y.shape)"
   ]
  },
  {
   "cell_type": "code",
   "execution_count": null,
   "id": "d6f5770d",
   "metadata": {},
   "outputs": [],
   "source": [
    "# Splitting the data into train and test sets\n",
    "X_train, X_test, y_train, y_test = train_test_split(X_scaled, y, test_size=0.2, random_state=42, stratify=y)\n",
    "\n",
    "# print the shape of the train and test sets\n",
    "print(\"\\nTrain and Test set shapes:\")\n",
    "print(\"X_train shape:\", X_train.shape)\n",
    "print(\"X_test shape:\", X_test.shape)\n",
    "print(\"y_train shape:\", y_train.shape)\n",
    "print(\"y_test shape:\", y_test.shape)"
   ]
  },
  {
   "cell_type": "markdown",
   "id": "987ef37f",
   "metadata": {},
   "source": [
    "## Training model"
   ]
  },
  {
   "cell_type": "markdown",
   "id": "0566d4db",
   "metadata": {},
   "source": [
    "Using logistic regression model first"
   ]
  },
  {
   "cell_type": "code",
   "execution_count": null,
   "id": "cbb580d7",
   "metadata": {},
   "outputs": [],
   "source": [
    "from sklearn.linear_model import LogisticRegression\n",
    "from sklearn.metrics import accuracy_score, classification_report, confusion_matrix"
   ]
  },
  {
   "cell_type": "code",
   "execution_count": null,
   "id": "992afd79",
   "metadata": {},
   "outputs": [],
   "source": [
    "logReg = LogisticRegression(random_state=42, max_iter=200)\n",
    "logReg.fit(X_train, y_train)\n",
    "y_pred_logReg = logReg.predict(X_test)\n",
    "accuracy_logReg = accuracy_score(y_test, y_pred_logReg)\n",
    "print(f\"\\nLogistic Regression Accuracy: {accuracy_logReg:.4f}\")\n",
    "print(\"Classification Report:\\n\", classification_report(y_test, y_pred_logReg))"
   ]
  },
  {
   "cell_type": "code",
   "execution_count": null,
   "id": "5484fd4a",
   "metadata": {},
   "outputs": [],
   "source": [
    "confusion_logReg = confusion_matrix(y_test, y_pred_logReg)\n",
    "print(\"Confusion Matrix:\\n\", confusion_logReg)\n",
    "sns.heatmap(confusion_logReg, annot=True, fmt='d', cmap='Blues')\n",
    "plt.title('Confusion Matrix - Logistic Regression')\n",
    "plt.xlabel('Predicted')\n",
    "plt.ylabel('Actual')\n",
    "plt.show()"
   ]
  },
  {
   "cell_type": "markdown",
   "id": "e54f260f",
   "metadata": {},
   "source": [
    "Using SVM linear and rbf kernel"
   ]
  },
  {
   "cell_type": "code",
   "execution_count": null,
   "id": "fe97db8d",
   "metadata": {},
   "outputs": [],
   "source": [
    "from sklearn.svm import SVC\n",
    "\n",
    "# Using SVM with linear kernel\n",
    "svm_linear = SVC(kernel='linear', random_state=42)\n",
    "svm_linear.fit(X_train, y_train)\n",
    "y_pred_svm_linear = svm_linear.predict(X_test)\n",
    "accuracy_svm_linear = accuracy_score(y_test, y_pred_svm_linear)\n",
    "print(f\"\\nSVM (Linear Kernel) Accuracy: {accuracy_svm_linear:.4f}\")\n",
    "print(\"Classification Report:\\n\", classification_report(y_test, y_pred_svm_linear))"
   ]
  },
  {
   "cell_type": "code",
   "execution_count": null,
   "id": "ab7b2113",
   "metadata": {},
   "outputs": [],
   "source": [
    "confusion_svm_linear = confusion_matrix(y_test, y_pred_svm_linear)\n",
    "print(\"Confusion Matrix:\\n\", confusion_svm_linear)\n",
    "sns.heatmap(confusion_svm_linear, annot=True, fmt='d', cmap='Blues')\n",
    "plt.title('Confusion Matrix - SVM (Linear Kernel)')\n",
    "plt.xlabel('Predicted')\n",
    "plt.ylabel('Actual')\n",
    "plt.show()"
   ]
  },
  {
   "cell_type": "code",
   "execution_count": null,
   "id": "4f97d681",
   "metadata": {},
   "outputs": [],
   "source": [
    "# Using the SVM with RBF kernel\n",
    "svm_rbf = SVC(kernel='rbf', random_state=42)\n",
    "svm_rbf.fit(X_train, y_train)\n",
    "y_pred_svm_rbf = svm_rbf.predict(X_test)\n",
    "accuracy_svm_rbf = accuracy_score(y_test, y_pred_svm_rbf)\n",
    "print(f\"\\nSVM (RBF Kernel) Accuracy: {accuracy_svm_rbf:.4f}\")\n",
    "print(\"Classification Report:\\n\", classification_report(y_test, y_pred_svm_rbf))"
   ]
  },
  {
   "cell_type": "code",
   "execution_count": null,
   "id": "b06fa020",
   "metadata": {},
   "outputs": [],
   "source": [
    "confusion_svm_rbf = confusion_matrix(y_test, y_pred_svm_rbf)\n",
    "print(\"Confusion Matrix:\\n\", confusion_svm_rbf)\n",
    "sns.heatmap(confusion_svm_rbf, annot=True, fmt='d', cmap='Blues')\n",
    "plt.title('Confusion Matrix - SVM (RBF Kernel)')\n",
    "plt.xlabel('Predicted')\n",
    "plt.ylabel('Actual')\n",
    "plt.show()"
   ]
  },
  {
   "cell_type": "markdown",
   "id": "e5e855e4",
   "metadata": {},
   "source": [
    "#### best accuracy is svm model with linear kernel.\n",
    "\n",
    "Will dump this model into a pickle file to be used in the streamlit app."
   ]
  },
  {
   "cell_type": "code",
   "execution_count": null,
   "id": "75dcaee1",
   "metadata": {},
   "outputs": [],
   "source": [
    "import pickle\n",
    "\n",
    "filename = 'diabetes_model.pkl'\n",
    "with open(filename, 'wb') as file:\n",
    "    pickle.dump(svm_rbf, file)\n",
    "\n",
    "print(f\"Model saved as {filename}\")"
   ]
  }
 ],
 "metadata": {
  "kernelspec": {
   "display_name": "Python 3",
   "language": "python",
   "name": "python3"
  },
  "language_info": {
   "codemirror_mode": {
    "name": "ipython",
    "version": 3
   },
   "file_extension": ".py",
   "mimetype": "text/x-python",
   "name": "python",
   "nbconvert_exporter": "python",
   "pygments_lexer": "ipython3",
   "version": "3.11.5"
  }
 },
 "nbformat": 4,
 "nbformat_minor": 5
}
